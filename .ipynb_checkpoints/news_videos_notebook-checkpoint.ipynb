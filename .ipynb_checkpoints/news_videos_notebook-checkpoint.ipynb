{
 "cells": [
  {
   "cell_type": "markdown",
   "metadata": {
    "id": "7jUXbl_ukEs6"
   },
   "source": [
    "# Face detection on Tagesschau Videos\n",
    "\n",
    "## Install\n",
    "- pip install deepface\n",
    "- pip install matplotlib==3.1.3\n",
    "\n",
    "## Folder structure\n",
    "- videos\n",
    "  - video_1.mp4\n",
    "  - video_2.mp4\n",
    "  - ...\n",
    "- frames\n",
    "  - frames_video_1\n",
    "    - frame_0.jpg\n",
    "    - frame_1.jpg\n",
    "    - ...\n",
    "  - ...\n",
    "- faces\n",
    "  - faces_video_1\n",
    "    - face_1.jpg\n",
    "    - face_2.jpg\n",
    "    - ...\n",
    "  - ..."
   ]
  },
  {
   "cell_type": "code",
   "execution_count": null,
   "metadata": {
    "id": "rpnn3gKduhCu"
   },
   "outputs": [],
   "source": [
    "# Install deepface\n",
    "!pip install deepface\n",
    "\n",
    "# Install matplotlib\n",
    "!pip install matplotlib==3.1.3"
   ]
  },
  {
   "cell_type": "code",
   "execution_count": null,
   "metadata": {
    "executionInfo": {
     "elapsed": 223,
     "status": "ok",
     "timestamp": 1676216466968,
     "user": {
      "displayName": "Tim Mewe",
      "userId": "05052143800523880357"
     },
     "user_tz": -60
    },
    "id": "YkAljUfGk-MO"
   },
   "outputs": [],
   "source": [
    "# Imports\n",
    "import cv2\n",
    "import os\n",
    "import shutil\n",
    "import matplotlib.pyplot as plt\n",
    "import cv2\n",
    "\n",
    "from matplotlib import image as mpimg\n",
    "from glob import glob\n",
    "from deepface import DeepFace\n",
    "from deepface.commons import distance as dst"
   ]
  },
  {
   "cell_type": "markdown",
   "metadata": {
    "id": "yN03sKfjlXYq"
   },
   "source": [
    "## Step 1: Extract frames from videos"
   ]
  },
  {
   "cell_type": "code",
   "execution_count": null,
   "metadata": {
    "executionInfo": {
     "elapsed": 12501,
     "status": "ok",
     "timestamp": 1676205207159,
     "user": {
      "displayName": "Tim Mewe",
      "userId": "05052143800523880357"
     },
     "user_tz": -60
    },
    "id": "ZAtEY-BcvmEs"
   },
   "outputs": [],
   "source": [
    "# Remove folder named 'frames'\n",
    "dirname = 'frames'\n",
    "shutil.rmtree(f'./{dirname}')\n",
    "os.mkdir(dirname)\n",
    "\n",
    "# Open the video\n",
    "cap = cv2.VideoCapture(\"tagesschau.mp4\")\n",
    "\n",
    "# Check if the video is opened\n",
    "if not cap.isOpened():\n",
    "    print(\"Das Video konnte nicht geöffnet werden.\")\n",
    "\n",
    "# Set the frame counter to 0\n",
    "frame_counter = 0\n",
    "\n",
    "# Defines how often a frame gets saved\n",
    "frame_save = 24\n",
    "\n",
    "# Read the video frame by frame\n",
    "while True:\n",
    "    ret, frame = cap.read()\n",
    "\n",
    "    # Check if we reached the end of the video\n",
    "    if not ret:\n",
    "        break\n",
    "\n",
    "    # Save the frame\n",
    "    if frame_counter % frame_save == 0:\n",
    "        cv2.imwrite(f\"./{dirname}/frame_{frame_counter//frame_save}.jpg\", frame)\n",
    "\n",
    "    frame_counter += 1\n",
    "\n",
    "# Release the video capture object\n",
    "cap.release()"
   ]
  },
  {
   "cell_type": "markdown",
   "metadata": {
    "id": "L5dWzYFPQ6av"
   },
   "source": [
    "## Step 2: Detect faces in videos using DeepFace\n",
    "\n"
   ]
  },
  {
   "cell_type": "code",
   "execution_count": null,
   "metadata": {
    "executionInfo": {
     "elapsed": 202,
     "status": "ok",
     "timestamp": 1676209177457,
     "user": {
      "displayName": "Tim Mewe",
      "userId": "05052143800523880357"
     },
     "user_tz": -60
    },
    "id": "rYJ3ufBOzj6V"
   },
   "outputs": [],
   "source": [
    "# Functions that displays the detected faces\n",
    "# - faces: the detected faces\n",
    "def displayFaces(faces):\n",
    "  facesCount = len(faces)\n",
    "  if facesCount == 1:\n",
    "    # Show face in simple plot\n",
    "    face = faces[0]['face']\n",
    "    plt.figure()\n",
    "    plt.imshow(face)\n",
    "    plt.axis('off')\n",
    "    plt.show()\n",
    "  else:\n",
    "    # Show faces in subplot\n",
    "    fig, axs = plt.subplots(1, len(faces), figsize = (15, 10))\n",
    "    for i, b in enumerate(faces):\n",
    "      face = faces[i]['face']\n",
    "      axs[i].imshow(face)\n",
    "      axs[i].axis('off')\n",
    "    plt.show() "
   ]
  },
  {
   "cell_type": "code",
   "execution_count": null,
   "metadata": {
    "executionInfo": {
     "elapsed": 330,
     "status": "ok",
     "timestamp": 1676209175606,
     "user": {
      "displayName": "Tim Mewe",
      "userId": "05052143800523880357"
     },
     "user_tz": -60
    },
    "id": "tKPguVOLzs5F"
   },
   "outputs": [],
   "source": [
    "# Saves faces to files\n",
    "# - dirname: the folder name where images get saved\n",
    "# - frame: the current frame number (if multiple faces per frame got detected)\n",
    "# - faces: the detected faces\n",
    "def saveFacesToFiles(dirname, frame, faces):\n",
    "  for i, f in enumerate(faces):\n",
    "    face = f['face']\n",
    "    path = f'./{dirname}/face_{frame}_{i}.jpg'\n",
    "\n",
    "    # Color scale image\n",
    "    face = cv2.cvtColor(face,cv2.COLOR_BGR2RGB)\n",
    "    face = cv2.convertScaleAbs(face, alpha=(255.0))\n",
    "\n",
    "    # Save image\n",
    "    cv2.imwrite(path, face)\n",
    "    print(f'Saved face to {path}')"
   ]
  },
  {
   "cell_type": "code",
   "execution_count": null,
   "metadata": {
    "colab": {
     "base_uri": "https://localhost:8080/",
     "height": 1000,
     "output_embedded_package_id": "1TsxfqD68ufaMrx0eegEziCU95Tn0syLW"
    },
    "executionInfo": {
     "elapsed": 89968,
     "status": "ok",
     "timestamp": 1676216920739,
     "user": {
      "displayName": "Tim Mewe",
      "userId": "05052143800523880357"
     },
     "user_tz": -60
    },
    "id": "b_KXrvcTQ_A2",
    "outputId": "3b41b10f-9c3c-49c2-f5d6-fb3c571a50c1"
   },
   "outputs": [],
   "source": [
    "# Create folder to save faces\n",
    "dirname = 'faces'\n",
    "shutil.rmtree(f'./{dirname}')\n",
    "os.mkdir(dirname)\n",
    "\n",
    "# Get frames and sort by modification time\n",
    "frames = sorted(glob('frames/*'), key=os.path.getmtime)\n",
    "\n",
    "firstTenFrames = frames[80:94]\n",
    "\n",
    "for i, frame in enumerate(frames):\n",
    "  try:\n",
    "    # Detect face using DeepFace\n",
    "    faces = DeepFace.extract_faces(frame)\n",
    "    print(f'Detected {len(faces)} face(s) in {frame}')\n",
    "    saveFacesToFiles(dirname, i, faces)\n",
    "    displayFaces(faces)\n",
    "\n",
    "  except:\n",
    "    print(f'Could not detect any faces in {frame}')\n",
    "    pass"
   ]
  },
  {
   "cell_type": "markdown",
   "metadata": {
    "id": "o4LqyuzO4GfB"
   },
   "source": [
    "## Step 3: Count faces"
   ]
  },
  {
   "cell_type": "code",
   "execution_count": null,
   "metadata": {
    "colab": {
     "base_uri": "https://localhost:8080/",
     "height": 1000
    },
    "executionInfo": {
     "elapsed": 141009,
     "status": "ok",
     "timestamp": 1676217079892,
     "user": {
      "displayName": "Tim Mewe",
      "userId": "05052143800523880357"
     },
     "user_tz": -60
    },
    "id": "ZXvZlydm4K6z",
    "outputId": "49b7a273-c6ac-4aec-e558-5e1d5c52ba7b"
   },
   "outputs": [],
   "source": [
    "# embedding : count\n",
    "face_counts = {}\n",
    "\n",
    "# Get faces and sort by modification time\n",
    "faces = sorted(glob('faces/*'), key=os.path.getmtime)\n",
    "\n",
    "for i, face in enumerate(faces):\n",
    "  print('')\n",
    "  print(f'Analyzing {face}')\n",
    "  # The first face is always new\n",
    "  if i == 0:\n",
    "    print(f'New face {face}')\n",
    "    face_counts[face] = 1\n",
    "  else:\n",
    "    try:\n",
    "      is_new_face = True\n",
    "      # Go through all detected unique faces\n",
    "      for unique_face in list(face_counts.keys()):\n",
    "        print(f'Comparing {face} and {unique_face}')\n",
    "\n",
    "        # Compare the new face with the unique face\n",
    "        verify = DeepFace.verify(unique_face, face, distance_metric=\"cosine\")\n",
    "        if verify['verified'] == True:\n",
    "          # The new face and the unique face are the same person\n",
    "          # Set is_new_face to false and increase the counter\n",
    "          is_new_face = False\n",
    "          print(f'{face} is equal to {unique_face}')\n",
    "          face_counts[unique_face] += 1\n",
    "          break\n",
    "      \n",
    "      # We got a new face/person\n",
    "      if is_new_face == True:\n",
    "        print(f'New face {face}')\n",
    "        face_counts[face] = 1\n",
    "\n",
    "    except Exception as e:\n",
    "      print(e)\n",
    "      pass"
   ]
  },
  {
   "cell_type": "code",
   "execution_count": null,
   "metadata": {
    "colab": {
     "base_uri": "https://localhost:8080/",
     "height": 166
    },
    "executionInfo": {
     "elapsed": 1438,
     "status": "ok",
     "timestamp": 1676217411562,
     "user": {
      "displayName": "Tim Mewe",
      "userId": "05052143800523880357"
     },
     "user_tz": -60
    },
    "id": "GrTxQI5AVYRD",
    "outputId": "14517576-ee31-4aef-98df-880ee9a7e636"
   },
   "outputs": [],
   "source": [
    "# Presentation\n",
    "\n",
    "fig, axs = plt.subplots(1, len(face_counts), figsize = (15, 10))\n",
    "\n",
    "for i, face in enumerate(face_counts):\n",
    "  count = face_counts[face]\n",
    "  image = mpimg.imread(face)\n",
    "  axs[i].imshow(image)\n",
    "  axs[i].axis('off')\n",
    "  axs[i].set_title(f'{count} time(s)')\n",
    "plt.show"
   ]
  }
 ],
 "metadata": {
  "colab": {
   "authorship_tag": "ABX9TyPV6m0bDhC3HGuXNtNo4wiU",
   "provenance": []
  },
  "kernelspec": {
   "display_name": "Python 3 (ipykernel)",
   "language": "python",
   "name": "python3"
  },
  "language_info": {
   "codemirror_mode": {
    "name": "ipython",
    "version": 3
   },
   "file_extension": ".py",
   "mimetype": "text/x-python",
   "name": "python",
   "nbconvert_exporter": "python",
   "pygments_lexer": "ipython3",
   "version": "3.9.13"
  }
 },
 "nbformat": 4,
 "nbformat_minor": 1
}
